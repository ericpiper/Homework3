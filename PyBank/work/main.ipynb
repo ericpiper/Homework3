{
 "cells": [
  {
   "cell_type": "code",
   "execution_count": 18,
   "metadata": {},
   "outputs": [],
   "source": [
    "import os\n",
    "import csv"
   ]
  },
  {
   "cell_type": "code",
   "execution_count": 26,
   "metadata": {},
   "outputs": [
    {
     "name": "stdout",
     "output_type": "stream",
     "text": [
      "Financial Analysis\n",
      "----------------------------\n",
      "Total Months: 86\n",
      "Total: 38382578\n",
      "Average Change: 0\n",
      "Greatest Increase in Profits:, Feb-2012, ($1926159)\n",
      "Greatest Decrease in Profits:, Sep-2013, ($-2196167)\n"
     ]
    }
   ],
   "source": [
    "#Create variables\n",
    "total_months = 0\n",
    "month_count = []\n",
    "total_net = 0\n",
    "monthly_change = []\n",
    "greatest_profit_increase = 0\n",
    "greatest_increase_month = 0\n",
    "greatest_loss_decrease = 0\n",
    "greatest_decrease_month = 0\n",
    "\n",
    "#Set path for the file\n",
    "budget_csv = os.path.join(\"..\", \"Resources\", \"budget_data.csv\")\n",
    "\n",
    "with open(budget_csv) as csvfile:\n",
    "    csvreader = csv.reader(csvfile, delimiter=\",\")\n",
    "    csv_header = next(csvreader)\n",
    "    #print(csv_header)\n",
    "        \n",
    "    for row in csvreader:\n",
    "    \n",
    "        #Number of months in the dataset\n",
    "        total_months += 1\n",
    "        \n",
    "        #Total Amounts Net in the Analysis\n",
    "        total_net += int(row[1])\n",
    "        \n",
    "       #Changes between months\n",
    "        revenue_change = int(row[1]) - previous_row\n",
    "        monthly_change.append(revenue_change)\n",
    "        previous_row = int(row[1])\n",
    "        month_count.append(row[0])\n",
    "\n",
    "        #Biggest Increase\n",
    "        if int(row[1]) > greatest_profit_increase:\n",
    "            greatest_profit_increase = int(row[1])\n",
    "            greatest_increase_month = row[0]\n",
    "                \n",
    "        #Biggest Drop\n",
    "        if int(row[1]) < greatest_loss_decrease:\n",
    "            greatest_loss_decrease = int(row[1])\n",
    "            greatest_decrease_month = row[0]  \n",
    "                \n",
    "        #Average Change\n",
    "        average_change = sum(monthly_change)%len(monthly_change)\n",
    "        \n",
    "        #Highs and Lows\n",
    "        highest = max(monthly_change)\n",
    "        lowest = min(monthly_change)\n",
    "    \n",
    "    #Printing of the final analysis\n",
    "    print(f\"Financial Analysis\")\n",
    "    print(f\"----------------------------\")\n",
    "    print(f\"Total Months: {total_months}\")\n",
    "    print(f\"Total: {total_net}\")\n",
    "    print(f\"Average Change: {average_change}\")\n",
    "    print(f\"Greatest Increase in Profits:, {greatest_increase_month}, (${highest})\")\n",
    "    print(f\"Greatest Decrease in Profits:, {greatest_decrease_month}, (${lowest})\")"
   ]
  },
  {
   "cell_type": "code",
   "execution_count": 31,
   "metadata": {},
   "outputs": [],
   "source": [
    "#Create the .txt file\n",
    "output_file = os.path.join(\"..\", \"Resources\", \"budget_data_analysis.csv\")\n",
    "with open(output_file, 'w',) as txtfile:\n",
    "    txtfile.write(f\"Financial Analysis\\n\")\n",
    "    txtfile.write(f\"---------------------------\\n\")\n",
    "    txtfile.write(f\"Total Months: {total_months}\\n\")\n",
    "    txtfile.write(f\"Total: ${total_net}\\n\")\n",
    "    txtfile.write(f\"Average Change: ${average_change}\\n\")\n",
    "    txtfile.write(f\"Greatest Increase in Profits:, {greatest_increase_month}, (${highest})\\n\")\n",
    "    txtfile.write(f\"Greatest Decrease in Profits:, {greatest_decrease_month}, (${lowest})\\n\")"
   ]
  }
 ],
 "metadata": {
  "kernelspec": {
   "display_name": "Python 3.7.6 64-bit ('Eric': virtualenv)",
   "language": "python",
   "name": "python37664bitericvirtualenv7aa0c6fca6054586831ff73f9d20baf1"
  },
  "language_info": {
   "codemirror_mode": {
    "name": "ipython",
    "version": 3
   },
   "file_extension": ".py",
   "mimetype": "text/x-python",
   "name": "python",
   "nbconvert_exporter": "python",
   "pygments_lexer": "ipython3",
   "version": "3.7.6"
  }
 },
 "nbformat": 4,
 "nbformat_minor": 4
}
